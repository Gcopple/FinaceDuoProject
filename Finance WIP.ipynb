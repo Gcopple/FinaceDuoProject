{
 "cells": [
  {
   "cell_type": "code",
   "execution_count": null,
   "metadata": {},
   "outputs": [],
   "source": [
    "import requests\n",
    "import json\n",
    "#from PIL import ImakeTk\n",
    "from tkinter import *\n",
    "from tkinter import messagebox\n",
    "import textwrap\n",
    "import matplotlib\n",
    "root = Tk()\n",
    "root.title(\"Finance Money Maker\")\n",
    "#root.iconbitmap()\n",
    "\n",
    "func_label = Label(root, text = \"Function:\")\n",
    "func_label.grid(row= 0 , column = 0)\n",
    "f = Entry(root)\n",
    "f.grid(row= 0, column = 1)\n",
    "f.insert(0,\"OVERVIEW\")\n",
    "tick_label = Label(root, text = \"Ticker:\")\n",
    "tick_label.grid(row= 1 , column = 0)\n",
    "ticker = Entry(root)\n",
    "ticker.grid(row= 1, column = 1)\n",
    "ticker.insert(0,\"MMM\")\n",
    "\n",
    "textwidth = 70\n",
    "\n",
    "def popup():\n",
    "    data = messagebox.showinfo(\"function\",\"10k\")\n",
    "    \n",
    "\n",
    "def get_data():\n",
    "    f.get()\n",
    "    ticker.get()\n",
    "    parameters = {}\n",
    "    parameters[\"function\"] = str(f.get())\n",
    "    parameters[\"symbol\"] = str(ticker.get())\n",
    "    parameters[\"apikey\"] = \"RSDENX6YMEDJPVM6\"    \n",
    "    formating = []\n",
    "    formatted = []\n",
    "    response = requests.get(\"https://www.alphavantage.co/query\",params = parameters)\n",
    "    for key,value in response.json().items():\n",
    "        formating.append(key + \": \" + value)\n",
    "    for strings in formating:\n",
    "        if len(strings)> textwidth:\n",
    "            placeholder = textwrap.wrap(strings, width = textwidth)\n",
    "            formatted.append(\"\\n\".join(placeholder))\n",
    "        else:\n",
    "            formatted.append(strings)\n",
    "    \n",
    "            \n",
    "            \n",
    "    printout = \"\\n\".join(formatted)\n",
    "    \n",
    "    #print(response.text)\n",
    "    #print(response.text)\n",
    "    #print(response.url)\n",
    "    Label(root,text = printout,justify = \"left\").grid(row = 4)\n",
    "get_data_button =Button(root,text= \"Get me the Money!\", command = get_data)\n",
    "get_data_button.grid(row = 3, column = 1)\n",
    "test_button = Button(root,text = \"Test Function button\", command = popup)\n",
    "test_button.grid(row=5, column = 0)\n",
    "root.mainloop()"
   ]
  },
  {
   "cell_type": "code",
   "execution_count": null,
   "metadata": {},
   "outputs": [],
   "source": []
  },
  {
   "cell_type": "code",
   "execution_count": null,
   "metadata": {},
   "outputs": [],
   "source": []
  }
 ],
 "metadata": {
  "kernelspec": {
   "display_name": "Python 3",
   "language": "python",
   "name": "python3"
  },
  "language_info": {
   "codemirror_mode": {
    "name": "ipython",
    "version": 3
   },
   "file_extension": ".py",
   "mimetype": "text/x-python",
   "name": "python",
   "nbconvert_exporter": "python",
   "pygments_lexer": "ipython3",
   "version": "3.8.3"
  }
 },
 "nbformat": 4,
 "nbformat_minor": 4
}
